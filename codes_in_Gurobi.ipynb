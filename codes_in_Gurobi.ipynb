{
  "cells": [
    {
      "cell_type": "markdown",
      "metadata": {
        "id": "n8XKXFCBA3Up"
      },
      "source": [
        "## 1 Electricity Production"
      ]
    },
    {
      "cell_type": "code",
      "execution_count": 1,
      "metadata": {
        "colab": {
          "base_uri": "https://localhost:8080/"
        },
        "id": "UtVw8OP995Ob",
        "outputId": "2447d87e-c423-46a6-a28b-587479814f6b"
      },
      "outputs": [
        {
          "name": "stdout",
          "output_type": "stream",
          "text": [
            "Set parameter Username\n",
            "Academic license - for non-commercial use only - expires 2023-08-24\n",
            "Gurobi Optimizer version 9.5.2 build v9.5.2rc0 (mac64[x86])\n",
            "Thread count: 2 physical cores, 4 logical processors, using up to 4 threads\n",
            "Optimize a model with 4 rows, 2 columns and 6 nonzeros\n",
            "Model fingerprint: 0x7b4c4a06\n",
            "Coefficient statistics:\n",
            "  Matrix range     [7e-01, 2e+00]\n",
            "  Objective range  [1e+00, 1e+00]\n",
            "  Bounds range     [0e+00, 0e+00]\n",
            "  RHS range        [8e+00, 2e+01]\n",
            "Presolve removed 2 rows and 0 columns\n",
            "Presolve time: 0.01s\n",
            "Presolved: 2 rows, 2 columns, 4 nonzeros\n",
            "\n",
            "Iteration    Objective       Primal Inf.    Dual Inf.      Time\n",
            "       0    2.7000000e+01   7.500000e+00   0.000000e+00      0s\n",
            "       1    2.2000000e+01   0.000000e+00   0.000000e+00      0s\n",
            "\n",
            "Solved in 1 iterations and 0.03 seconds (0.00 work units)\n",
            "Optimal objective  2.200000000e+01\n",
            "obj_func =  22.0\n",
            "x[0] = 12\n",
            "x[1] = 10\n"
          ]
        }
      ],
      "source": [
        "import gurobipy as gp\n",
        "from gurobipy import GRB\n",
        "\n",
        "m = gp.Model(\"elec_product\")\n",
        "m.Params.LogToConsole = 1  # use this to disable detailed result output\n",
        "\n",
        "x = m.addVars(2, lb=0, name=\"x\")\n",
        "\n",
        "m.setObjective(x[0]+x[1], GRB.MAXIMIZE)\n",
        "\n",
        "m.addConstr((2/3)*x[0]+x[1] <= 18)\n",
        "m.addConstr(2*x[0]+x[1] >= 8)\n",
        "m.addConstr(x[0] <= 12)\n",
        "m.addConstr(x[1] <= 16)\n",
        "\n",
        "m.optimize()\n",
        "\n",
        "print(\"obj_func = \", m.objVal)\n",
        "for v in m.getVars():\n",
        "    print('%s = %g' % (v.varName, v.x))\n"
      ]
    },
    {
      "cell_type": "markdown",
      "metadata": {
        "id": "tNjS8fbKA7Zi"
      },
      "source": [
        "## 2 High Tech Inc."
      ]
    },
    {
      "cell_type": "code",
      "execution_count": 2,
      "metadata": {
        "colab": {
          "base_uri": "https://localhost:8080/"
        },
        "id": "-gt8EnEWAx3T",
        "outputId": "6d797b0d-353a-4038-a0f5-6bb906baa47a"
      },
      "outputs": [
        {
          "name": "stdout",
          "output_type": "stream",
          "text": [
            "Gurobi Optimizer version 9.5.2 build v9.5.2rc0 (mac64[x86])\n",
            "Thread count: 2 physical cores, 4 logical processors, using up to 4 threads\n",
            "Optimize a model with 3 rows, 2 columns and 5 nonzeros\n",
            "Model fingerprint: 0x7b7c940f\n",
            "Coefficient statistics:\n",
            "  Matrix range     [1e+00, 4e+00]\n",
            "  Objective range  [2e+01, 3e+01]\n",
            "  Bounds range     [0e+00, 0e+00]\n",
            "  RHS range        [2e+01, 2e+02]\n",
            "Presolve removed 1 rows and 0 columns\n",
            "Presolve time: 0.02s\n",
            "Presolved: 2 rows, 2 columns, 4 nonzeros\n",
            "\n",
            "Iteration    Objective       Primal Inf.    Dual Inf.      Time\n",
            "       0    1.9000000e+03   0.000000e+00   0.000000e+00      0s\n",
            "       0    1.9000000e+03   0.000000e+00   0.000000e+00      0s\n",
            "\n",
            "Solved in 0 iterations and 0.03 seconds (0.00 work units)\n",
            "Optimal objective  1.900000000e+03\n",
            "obj_func =  1900.0\n",
            "x[0] = 25\n",
            "x[1] = 46.6667\n"
          ]
        }
      ],
      "source": [
        "import gurobipy as gp\n",
        "from gurobipy import GRB\n",
        "\n",
        "m = gp.Model(\"HighTech\")\n",
        "x = m.addVars(2, lb=0, name=\"x\")\n",
        "\n",
        "m.setObjective(20*x[0]+30*x[1], GRB.MAXIMIZE)\n",
        "\n",
        "m.addConstr(x[0] >= 25)\n",
        "m.addConstr(4*x[0]+3*x[1] <= 240)\n",
        "m.addConstr(x[0]+2*x[1] <= 140)\n",
        "\n",
        "m.optimize()\n",
        "\n",
        "print(\"obj_func = \", m.objVal)\n",
        "\n",
        "for v in m.getVars():\n",
        "    print('%s = %g' % (v.varName, v.x))\n"
      ]
    },
    {
      "cell_type": "markdown",
      "metadata": {
        "id": "Ly3khJ2yBzF1"
      },
      "source": [
        "## 3 Transportation"
      ]
    },
    {
      "cell_type": "code",
      "execution_count": 4,
      "metadata": {
        "colab": {
          "base_uri": "https://localhost:8080/"
        },
        "id": "MB2W4ugfjTVl",
        "outputId": "772da858-a060-4c6f-fde3-17397b1dbe35"
      },
      "outputs": [
        {
          "name": "stdout",
          "output_type": "stream",
          "text": [
            "Gurobi Optimizer version 9.5.2 build v9.5.2rc0 (mac64[x86])\n",
            "Thread count: 2 physical cores, 4 logical processors, using up to 4 threads\n",
            "Optimize a model with 7 rows, 12 columns and 24 nonzeros\n",
            "Model fingerprint: 0x51891d63\n",
            "Coefficient statistics:\n",
            "  Matrix range     [1e+00, 1e+00]\n",
            "  Objective range  [3e+00, 9e+00]\n",
            "  Bounds range     [0e+00, 0e+00]\n",
            "  RHS range        [3e+03, 9e+03]\n",
            "Presolve time: 0.03s\n",
            "Presolved: 7 rows, 12 columns, 24 nonzeros\n",
            "\n",
            "Iteration    Objective       Primal Inf.    Dual Inf.      Time\n",
            "       0    6.6600000e+04   1.000000e+02   0.000000e+00      0s\n",
            "       1    6.6700000e+04   0.000000e+00   0.000000e+00      0s\n",
            "\n",
            "Solved in 1 iterations and 0.04 seconds (0.00 work units)\n",
            "Optimal objective  6.670000000e+04\n",
            "warehouse_to_retail[0,0] = 0\n",
            "warehouse_to_retail[0,1] = 5200\n",
            "warehouse_to_retail[0,2] = 0\n",
            "warehouse_to_retail[0,3] = 100\n",
            "warehouse_to_retail[1,0] = 0\n",
            "warehouse_to_retail[1,1] = 0\n",
            "warehouse_to_retail[1,2] = 2700\n",
            "warehouse_to_retail[1,3] = 6300\n",
            "warehouse_to_retail[2,0] = 3900\n",
            "warehouse_to_retail[2,1] = 0\n",
            "warehouse_to_retail[2,2] = 0\n",
            "warehouse_to_retail[2,3] = 0\n"
          ]
        }
      ],
      "source": [
        "import gurobipy as gp\n",
        "from gurobipy import GRB\n",
        "\n",
        "\n",
        "# Create a new model\n",
        "m = gp.Model(\"transportation\")\n",
        "\n",
        "# warehouse availability\n",
        "capacity = [6000, 9000, 4000]\n",
        "\n",
        "# retail outlet demand\n",
        "demand = [3900, 5200, 2700, 6400]\n",
        "\n",
        "# unit shipping costs\n",
        "cost = [[7, 3, 8, 4], [9, 5, 6, 3], [4, 6, 9, 6]]\n",
        "\n",
        "# Create variables\n",
        "warehouse = range(len(capacity))  # index for warehouse\n",
        "retail = range(len(demand))  # index for retailer\n",
        "\n",
        "X = m.addVars(warehouse, retail, name=\"warehouse_to_retail\")\n",
        "\n",
        "# Set objective\n",
        "m.setObjective(gp.quicksum(X[w, r]*cost[w][r]\n",
        "                for w in warehouse for r in retail), GRB.MINIMIZE)\n",
        "\n",
        "# Add constraints using loops\n",
        "\n",
        "# Add constraints for warehouse availability\n",
        "for w in warehouse:\n",
        "    m.addConstr(sum(X[w, r] for r in retail) <= capacity[w])\n",
        "\n",
        "# Add constraints for demand\n",
        "for r in retail:\n",
        "    m.addConstr(sum(X[w, r] for w in warehouse) == demand[r])\n",
        "\n",
        "# Optimize model\n",
        "m.optimize()\n",
        "\n",
        "\n",
        "for v in m.getVars():\n",
        "    print('%s = %g' % (v.varName, v.x))\n",
        "\n",
        "\n",
        "\n"
      ]
    },
    {
      "cell_type": "markdown",
      "metadata": {
        "id": "XEGGJI-pDrD2"
      },
      "source": [
        "## 4 Product Blend"
      ]
    },
    {
      "cell_type": "code",
      "execution_count": 5,
      "metadata": {
        "colab": {
          "base_uri": "https://localhost:8080/"
        },
        "id": "4ux_fKNWDuSQ",
        "outputId": "ea448cc8-8ab1-4959-915a-0c6ab3a43dd3"
      },
      "outputs": [
        {
          "name": "stdout",
          "output_type": "stream",
          "text": [
            "Gurobi Optimizer version 9.5.2 build v9.5.2rc0 (mac64[x86])\n",
            "Thread count: 2 physical cores, 4 logical processors, using up to 4 threads\n",
            "Optimize a model with 8 rows, 4 columns and 16 nonzeros\n",
            "Model fingerprint: 0xaedc2c60\n",
            "Coefficient statistics:\n",
            "  Matrix range     [1e+00, 9e+00]\n",
            "  Objective range  [1e+01, 2e+01]\n",
            "  Bounds range     [0e+00, 0e+00]\n",
            "  RHS range        [2e+04, 8e+04]\n",
            "Presolve removed 2 rows and 0 columns\n",
            "Presolve time: 0.03s\n",
            "Presolved: 6 rows, 6 columns, 14 nonzeros\n",
            "\n",
            "Iteration    Objective       Primal Inf.    Dual Inf.      Time\n",
            "       0    2.0000000e+06   2.749125e+04   0.000000e+00      0s\n",
            "       3    1.8000000e+06   0.000000e+00   0.000000e+00      0s\n",
            "\n",
            "Solved in 3 iterations and 0.04 seconds (0.00 work units)\n",
            "Optimal objective  1.800000000e+06\n",
            "obj_func =  1800000.0\n",
            "X[0,0] = 58000\n",
            "X[0,1] = 12000\n",
            "X[1,0] = 22000\n",
            "X[1,1] = 28000\n"
          ]
        }
      ],
      "source": [
        "import gurobipy as gp\n",
        "from gurobipy import GRB\n",
        "\n",
        "m = gp.Model(\"product_blend\")\n",
        "\n",
        "X = m.addVars(2, 2, lb=0, name=\"X\")\n",
        "\n",
        "m.setObjective(15*X[0, 0]+20*X[0, 1]+11*X[1, 0]+16*X[1, 1], GRB.MAXIMIZE)\n",
        "\n",
        "m.addConstr(-X[0, 0]+9*X[1, 0] >= 0)\n",
        "m.addConstr(-7*X[0, 1]+3*X[1, 1] >= 0)\n",
        "m.addConstr(X[0, 0]+X[1, 0] >= 60000)\n",
        "m.addConstr(X[0, 1]+X[1, 1] >= 15000)\n",
        "m.addConstr(X[0, 0]+X[1, 0] <= 80000)\n",
        "m.addConstr(X[0, 1]+X[1, 1] <= 40000)\n",
        "m.addConstr(X[0, 0]+X[0, 1] <= 70000)\n",
        "m.addConstr(X[1, 0]+X[1, 1] <= 60000)\n",
        "\n",
        "m.optimize()\n",
        "\n",
        "print(\"obj_func = \", m.objVal)\n",
        "\n",
        "for v in m.getVars():\n",
        "    print('%s = %g' % (v.varName, v.x))\n"
      ]
    },
    {
      "cell_type": "markdown",
      "metadata": {
        "id": "wfFhBakAGgig"
      },
      "source": [
        "## 5 Production Schedule"
      ]
    },
    {
      "cell_type": "code",
      "execution_count": 14,
      "metadata": {
        "colab": {
          "base_uri": "https://localhost:8080/"
        },
        "id": "dW52fa_KGlA7",
        "outputId": "6b982581-19ee-4545-8dec-425d3c131095"
      },
      "outputs": [
        {
          "name": "stdout",
          "output_type": "stream",
          "text": [
            "Gurobi Optimizer version 9.5.2 build v9.5.2rc0 (mac64[x86])\n",
            "Thread count: 8 physical cores, 16 logical processors, using up to 16 threads\n",
            "Optimize a model with 13 rows, 9 columns and 21 nonzeros\n",
            "Model fingerprint: 0x48832549\n",
            "Coefficient statistics:\n",
            "  Matrix range     [1e+00, 1e+00]\n",
            "  Objective range  [3e+00, 2e+01]\n",
            "  Bounds range     [0e+00, 0e+00]\n",
            "  RHS range        [5e+01, 1e+03]\n",
            "Presolve removed 13 rows and 9 columns\n",
            "Presolve time: 0.00s\n",
            "Presolve: All rows and columns removed\n",
            "Iteration    Objective       Primal Inf.    Dual Inf.      Time\n",
            "       0    3.7150000e+04   0.000000e+00   0.000000e+00      0s\n",
            "\n",
            "Solved in 0 iterations and 0.01 seconds (0.00 work units)\n",
            "Optimal objective  3.715000000e+04\n",
            "obj_func =  37150.0\n",
            "value of x[0] is 400\n",
            "value of x[1] is 800\n",
            "value of x[2] is 800\n",
            "value of x[3] is 700\n",
            "value of y[0] is 0\n",
            "value of y[1] is 100\n",
            "value of w[0] is 0\n",
            "value of w[1] is 50\n",
            "value of w[2] is 0\n"
          ]
        }
      ],
      "source": [
        "import gurobipy as gp\n",
        "from gurobipy import GRB\n",
        "\n",
        "m = gp.Model(\"elec_product\")\n",
        "\n",
        "x = m.addVars(4, lb=0, name=\"x\")\n",
        "y = m.addVars(2, lb=0, name=\"y\")\n",
        "w = m.addVars(3, lb=0, name=\"w\")\n",
        "\n",
        "m.setObjective(12*x[0]+12*x[1]+14*x[2]+14*x[3]+16*y[0] +\n",
        "               16*y[1]+3*(w[0]+w[1]+w[2]), GRB.MINIMIZE)\n",
        "\n",
        "m.addConstr(x[0]-w[0] == 400)\n",
        "m.addConstr(x[1]+y[0]+w[0]-w[1] == 750)\n",
        "m.addConstr(x[2]+y[1]+w[1]-w[2] == 950)\n",
        "m.addConstr(x[3]+w[2] == 700)  # to fix infeasibility change 900 to 700\n",
        "m.addConstr(x[0] <= 800)\n",
        "m.addConstr(x[1] <= 800)\n",
        "m.addConstr(x[2] <= 800)\n",
        "m.addConstr(x[3] <= 800)\n",
        "m.addConstr(y[0] <= 200)\n",
        "m.addConstr(y[1] <= 200)\n",
        "m.addConstr(w[0] <= 50)\n",
        "m.addConstr(w[1] <= 50)\n",
        "m.addConstr(w[2] <= 50)\n",
        "\n",
        "m.optimize()\n",
        "\n",
        "print(\"obj_func = \", m.objVal)\n",
        "\n",
        "for v in m.getVars():\n",
        "    print('value of %s is %g' % (v.varName, v.x))\n"
      ]
    },
    {
      "cell_type": "markdown",
      "metadata": {},
      "source": [
        "## 6 Investment"
      ]
    },
    {
      "cell_type": "code",
      "execution_count": 15,
      "metadata": {},
      "outputs": [
        {
          "name": "stdout",
          "output_type": "stream",
          "text": [
            "Gurobi Optimizer version 9.5.2 build v9.5.2rc0 (mac64[x86])\n",
            "Thread count: 8 physical cores, 16 logical processors, using up to 16 threads\n",
            "Optimize a model with 8 rows, 8 columns and 19 nonzeros\n",
            "Model fingerprint: 0xade663c9\n",
            "Coefficient statistics:\n",
            "  Matrix range     [5e-01, 1e+00]\n",
            "  Objective range  [1e+00, 2e+00]\n",
            "  Bounds range     [0e+00, 0e+00]\n",
            "  RHS range        [8e+04, 1e+05]\n",
            "Presolve removed 5 rows and 0 columns\n",
            "Presolve time: 0.00s\n",
            "Presolved: 3 rows, 8 columns, 14 nonzeros\n",
            "\n",
            "Iteration    Objective       Primal Inf.    Dual Inf.      Time\n",
            "       0    7.7408339e+05   8.258836e+04   0.000000e+00      0s\n",
            "       3    2.1850000e+05   0.000000e+00   0.000000e+00      0s\n",
            "\n",
            "Solved in 3 iterations and 0.01 seconds (0.00 work units)\n",
            "Optimal objective  2.185000000e+05\n",
            "obj_func =  218500.0\n",
            "value of x[0] is 60000\n",
            "value of x[1] is 30000\n",
            "value of x[2] is 0\n",
            "value of x[3] is 40000\n",
            "value of x[4] is 75000\n",
            "value of s[0] is 0\n",
            "value of s[1] is 0\n",
            "value of s[2] is 0\n"
          ]
        }
      ],
      "source": [
        "import gurobipy as gp\n",
        "from gurobipy import GRB\n",
        "\n",
        "m = gp.Model(\"investment\")\n",
        "\n",
        "x = m.addVars(5, lb=0, name=\"x\")\n",
        "s = m.addVars(3, lb=0, name=\"s\")\n",
        "\n",
        "m.setObjective(x[1]+1.9*x[3]+1.5*x[4]+1.08*s[2], GRB.MAXIMIZE)\n",
        "\n",
        "m.addConstr(x[0]+x[2]+x[3]+s[0] == 100000)\n",
        "m.addConstr(0.5*x[0]-x[1]+1.2*x[2]+1.08*s[0]-s[1] == 0)\n",
        "m.addConstr(x[0]+0.5*x[1]-x[4]+1.08*s[1]-s[2] == 0)\n",
        "m.addConstr(x[0] <= 75000)\n",
        "m.addConstr(x[1] <= 75000)\n",
        "m.addConstr(x[2] <= 75000)\n",
        "m.addConstr(x[3] <= 75000)\n",
        "m.addConstr(x[4] <= 75000)\n",
        "\n",
        "m.optimize()\n",
        "\n",
        "print(\"obj_func = \", m.objVal)\n",
        "\n",
        "for v in m.getVars():\n",
        "    print('value of %s is %g' % (v.varName, v.x))\n"
      ]
    },
    {
      "cell_type": "markdown",
      "metadata": {},
      "source": [
        "## 7 LP Example with Unique Optimal Solution"
      ]
    },
    {
      "cell_type": "code",
      "execution_count": 16,
      "metadata": {},
      "outputs": [
        {
          "name": "stdout",
          "output_type": "stream",
          "text": [
            "Gurobi Optimizer version 9.5.2 build v9.5.2rc0 (mac64[x86])\n",
            "Thread count: 8 physical cores, 16 logical processors, using up to 16 threads\n",
            "Optimize a model with 3 rows, 2 columns and 5 nonzeros\n",
            "Model fingerprint: 0xbb510aaf\n",
            "Coefficient statistics:\n",
            "  Matrix range     [1e+00, 2e+00]\n",
            "  Objective range  [2e+00, 3e+00]\n",
            "  Bounds range     [0e+00, 0e+00]\n",
            "  RHS range        [4e+00, 2e+01]\n",
            "Presolve removed 1 rows and 0 columns\n",
            "Presolve time: 0.01s\n",
            "Presolved: 2 rows, 2 columns, 4 nonzeros\n",
            "\n",
            "Iteration    Objective       Primal Inf.    Dual Inf.      Time\n",
            "       0    5.4000000e+01   4.000000e+00   0.000000e+00      0s\n",
            "       1    3.8000000e+01   0.000000e+00   0.000000e+00      0s\n",
            "\n",
            "Solved in 1 iterations and 0.01 seconds (0.00 work units)\n",
            "Optimal objective  3.800000000e+01\n",
            "obj_func =  38.0\n",
            "value of x[0] is 4\n",
            "value of x[1] is 10\n"
          ]
        }
      ],
      "source": [
        "import gurobipy as gp\n",
        "from gurobipy import GRB\n",
        "\n",
        "m = gp.Model(\"LP_expl_uniqueOpt\")\n",
        "x = m.addVars(2, lb=0, name=\"x\")\n",
        "\n",
        "m.setObjective(2*x[0]+3*x[1], GRB.MAXIMIZE)\n",
        "\n",
        "\n",
        "m.addConstr(x[0]-2*x[1] <= 4)\n",
        "m.addConstr(2*x[0]+x[1] <= 18)\n",
        "m.addConstr(x[1] <= 10)\n",
        "m.optimize()\n",
        "\n",
        "print(\"obj_func = \", m.objVal)\n",
        "\n",
        "for v in m.getVars():\n",
        "    print('value of %s is %g' % (v.varName, v.x))\n"
      ]
    },
    {
      "cell_type": "markdown",
      "metadata": {},
      "source": [
        "## 8 LP Example with Unique Optimal Solution"
      ]
    },
    {
      "cell_type": "code",
      "execution_count": 17,
      "metadata": {},
      "outputs": [
        {
          "name": "stdout",
          "output_type": "stream",
          "text": [
            "obj_func =  180.0\n",
            "value of x[0] is 20\n",
            "value of x[1] is 60\n"
          ]
        }
      ],
      "source": [
        "import gurobipy as gp\n",
        "from gurobipy import GRB\n",
        "\n",
        "m = gp.Model(\"LP_expl_uniqueOpt\")\n",
        "m.Params.LogToConsole = 0  # use this to disable detailed result output\n",
        "x = m.addVars(2, lb=0, name=\"x\")\n",
        "\n",
        "m.setObjective(3*x[0]+2*x[1], GRB.MAXIMIZE)\n",
        "\n",
        "m.addConstr(2*x[0]+x[1] <= 100)\n",
        "m.addConstr(x[0]+x[1] <= 80)\n",
        "m.addConstr(x[0] <= 40)\n",
        "\n",
        "m.optimize()\n",
        "\n",
        "print(\"obj_func = \", m.objVal)\n",
        "\n",
        "for v in m.getVars():\n",
        "    print('value of %s is %g' % (v.varName, v.x))\n"
      ]
    },
    {
      "cell_type": "markdown",
      "metadata": {},
      "source": [
        "## 9 LP Unbounded Example"
      ]
    },
    {
      "cell_type": "code",
      "execution_count": 18,
      "metadata": {},
      "outputs": [
        {
          "name": "stdout",
          "output_type": "stream",
          "text": [
            "Gurobi Optimizer version 9.5.2 build v9.5.2rc0 (mac64[x86])\n",
            "Thread count: 8 physical cores, 16 logical processors, using up to 16 threads\n",
            "Optimize a model with 3 rows, 2 columns and 5 nonzeros\n",
            "Model fingerprint: 0x167804be\n",
            "Coefficient statistics:\n",
            "  Matrix range     [1e+00, 2e+00]\n",
            "  Objective range  [1e+00, 3e+00]\n",
            "  Bounds range     [0e+00, 0e+00]\n",
            "  RHS range        [2e+00, 4e+00]\n",
            "Presolve removed 2 rows and 1 columns\n",
            "Presolve time: 0.00s\n",
            "\n",
            "Solved in 0 iterations and 0.00 seconds (0.00 work units)\n",
            "Infeasible or unbounded model\n"
          ]
        }
      ],
      "source": [
        "import gurobipy as gp\n",
        "from gurobipy import GRB\n",
        "\n",
        "m = gp.Model(\"LP_expl_unbounded\")\n",
        "m.Params.LogToConsole = 1  # use this to disable detailed result output\n",
        "\n",
        "x = m.addVars(2, lb=0, name=\"x\")\n",
        "\n",
        "m.setObjective(x[0]+3*x[1], GRB.MAXIMIZE)\n",
        "\n",
        "m.addConstr(x[0]-2*x[1] <= 4)\n",
        "m.addConstr(-x[0]+x[1] <= 3)\n",
        "m.addConstr(x[1] >= 2)\n",
        "\n",
        "m.optimize()\n",
        "\n",
        "# print(\"obj_func = \", m.objVal)\n",
        "\n",
        "# for v in m.getVars():\n",
        "#     print('value of %s is %g' % (v.varName, v.x))\n"
      ]
    },
    {
      "cell_type": "markdown",
      "metadata": {},
      "source": [
        "## 10 LP Example with Alternative Optimal solutions"
      ]
    },
    {
      "cell_type": "code",
      "execution_count": 19,
      "metadata": {},
      "outputs": [
        {
          "name": "stdout",
          "output_type": "stream",
          "text": [
            "Gurobi Optimizer version 9.5.2 build v9.5.2rc0 (mac64[x86])\n",
            "Thread count: 8 physical cores, 16 logical processors, using up to 16 threads\n",
            "Optimize a model with 2 rows, 2 columns and 4 nonzeros\n",
            "Model fingerprint: 0x82581819\n",
            "Coefficient statistics:\n",
            "  Matrix range     [1e+00, 2e+00]\n",
            "  Objective range  [3e+00, 6e+00]\n",
            "  Bounds range     [0e+00, 0e+00]\n",
            "  RHS range        [1e+01, 2e+01]\n",
            "Presolve time: 0.00s\n",
            "Presolved: 2 rows, 2 columns, 4 nonzeros\n",
            "\n",
            "Iteration    Objective       Primal Inf.    Dual Inf.      Time\n",
            "       0    9.0000000e+30   3.500000e+30   9.000000e+00      0s\n",
            "       2    4.8000000e+01   0.000000e+00   0.000000e+00      0s\n",
            "\n",
            "Solved in 2 iterations and 0.01 seconds (0.00 work units)\n",
            "Optimal objective  4.800000000e+01\n",
            "obj_func =  48.0\n",
            "value of x[0] is 8\n",
            "value of x[1] is 0\n"
          ]
        }
      ],
      "source": [
        "import gurobipy as gp\n",
        "from gurobipy import GRB\n",
        "\n",
        "m = gp.Model(\"LP_expl_altOpt\")\n",
        "m.Params.LogToConsole = 1  # use this to disable detailed result output\n",
        "\n",
        "x = m.addVars(2, lb=0, name=\"x\")\n",
        "\n",
        "m.setObjective(6*x[0]+3*x[1], GRB.MAXIMIZE)\n",
        "\n",
        "m.addConstr(2*x[0]+x[1] <= 16)\n",
        "m.addConstr(x[0]+x[1] <= 10)\n",
        "\n",
        "m.optimize()\n",
        "\n",
        "print(\"obj_func = \", m.objVal)\n",
        "\n",
        "for v in m.getVars():\n",
        "    print('value of %s is %g' % (v.varName, v.x))\n"
      ]
    },
    {
      "cell_type": "markdown",
      "metadata": {},
      "source": [
        "## 11 LP Example (Algebraic)"
      ]
    },
    {
      "cell_type": "code",
      "execution_count": 20,
      "metadata": {},
      "outputs": [
        {
          "name": "stdout",
          "output_type": "stream",
          "text": [
            "obj_func =  22.0\n",
            "value of x[0] is 12\n",
            "value of x[1] is 10\n"
          ]
        }
      ],
      "source": [
        "import gurobipy as gp\n",
        "from gurobipy import GRB\n",
        "\n",
        "m = gp.Model(\"LP_expl_algebraic\")\n",
        "m.Params.LogToConsole = 0  # use this to disable detailed result output\n",
        "\n",
        "x = m.addVars(2, lb=0, name=\"x\")\n",
        "\n",
        "m.setObjective(x[0]+x[1], GRB.MAXIMIZE)\n",
        "\n",
        "m.addConstr((2/3)*x[0]+x[1] <= 18)\n",
        "m.addConstr(2*x[0]+x[1] >= 8)\n",
        "m.addConstr(x[0] <= 12)\n",
        "m.addConstr(x[1] <= 16)\n",
        "\n",
        "m.optimize()\n",
        "\n",
        "print(\"obj_func = \", m.objVal)\n",
        "\n",
        "for v in m.getVars():\n",
        "    print('value of %s is %g' % (v.varName, v.x))\n"
      ]
    },
    {
      "cell_type": "markdown",
      "metadata": {},
      "source": [
        "## 12 MIP Spacecraft"
      ]
    },
    {
      "cell_type": "code",
      "execution_count": 21,
      "metadata": {},
      "outputs": [
        {
          "name": "stdout",
          "output_type": "stream",
          "text": [
            "Gurobi Optimizer version 9.5.2 build v9.5.2rc0 (mac64[x86])\n",
            "Thread count: 8 physical cores, 16 logical processors, using up to 16 threads\n",
            "Optimize a model with 4 rows, 2 columns and 6 nonzeros\n",
            "Model fingerprint: 0x5a84ece1\n",
            "Variable types: 0 continuous, 2 integer (0 binary)\n",
            "Coefficient statistics:\n",
            "  Matrix range     [1e+00, 3e+01]\n",
            "  Objective range  [1e+00, 1e+00]\n",
            "  Bounds range     [0e+00, 0e+00]\n",
            "  RHS range        [1e+02, 1e+02]\n",
            "Found heuristic solution: objective 4.0000000\n",
            "Presolve removed 2 rows and 0 columns\n",
            "Presolve time: 0.00s\n",
            "Presolved: 2 rows, 2 columns, 4 nonzeros\n",
            "Variable types: 0 continuous, 2 integer (0 binary)\n",
            "\n",
            "Root relaxation: objective 5.000000e+00, 0 iterations, 0.00 seconds (0.00 work units)\n",
            "\n",
            "    Nodes    |    Current Node    |     Objective Bounds      |     Work\n",
            " Expl Unexpl |  Obj  Depth IntInf | Incumbent    BestBd   Gap | It/Node Time\n",
            "\n",
            "*    0     0               0       5.0000000    5.00000  0.00%     -    0s\n",
            "\n",
            "Explored 1 nodes (0 simplex iterations) in 0.01 seconds (0.00 work units)\n",
            "Thread count was 16 (of 16 available processors)\n",
            "\n",
            "Solution count 2: 5 4 \n",
            "\n",
            "Optimal solution found (tolerance 1.00e-04)\n",
            "Best objective 5.000000000000e+00, best bound 5.000000000000e+00, gap 0.0000%\n",
            "obj_func =  5.0\n",
            "value of x[0] is 2\n",
            "value of x[1] is 3\n"
          ]
        }
      ],
      "source": [
        "import gurobipy as gp\n",
        "from gurobipy import GRB\n",
        "\n",
        "m = gp.Model(\"MIP_spacecraft\")\n",
        "m.Params.LogToConsole = 1  # use this to disable detailed result output\n",
        "\n",
        "x = m.addVars(2, vtype=GRB.INTEGER, name=\"x\")\n",
        "\n",
        "m.setObjective(x[0]+x[1], GRB.MAXIMIZE)\n",
        "\n",
        "m.addConstr(17*x[0]+32*x[1] <= 136)\n",
        "m.addConstr(32*x[0]+15*x[1] <= 120)\n",
        "m.addConstr(x[0] >= 0)\n",
        "m.addConstr(x[1] >= 0)\n",
        "\n",
        "m.optimize()\n",
        "\n",
        "print(\"obj_func = \", m.objVal)\n",
        "\n",
        "for v in m.getVars():\n",
        "    print('value of %s is %g' % (v.varName, v.x))\n"
      ]
    },
    {
      "cell_type": "markdown",
      "metadata": {},
      "source": [
        "## 13 MIP Building Gas Storage"
      ]
    },
    {
      "cell_type": "code",
      "execution_count": 22,
      "metadata": {},
      "outputs": [
        {
          "name": "stdout",
          "output_type": "stream",
          "text": [
            "Gurobi Optimizer version 9.5.2 build v9.5.2rc0 (mac64[x86])\n",
            "Thread count: 8 physical cores, 16 logical processors, using up to 16 threads\n",
            "Optimize a model with 5 rows, 9 columns and 15 nonzeros\n",
            "Model fingerprint: 0x4530e096\n",
            "Variable types: 6 continuous, 3 integer (3 binary)\n",
            "Coefficient statistics:\n",
            "  Matrix range     [1e+00, 9e+00]\n",
            "  Objective range  [1e+00, 9e+00]\n",
            "  Bounds range     [1e+00, 1e+00]\n",
            "  RHS range        [6e+00, 1e+01]\n",
            "Presolve removed 0 rows and 1 columns\n",
            "Presolve time: 0.00s\n",
            "Presolved: 5 rows, 8 columns, 14 nonzeros\n",
            "Variable types: 6 continuous, 2 integer (2 binary)\n",
            "Found heuristic solution: objective 41.0000000\n",
            "\n",
            "Root relaxation: objective 5.001786e+01, 4 iterations, 0.00 seconds (0.00 work units)\n",
            "\n",
            "    Nodes    |    Current Node    |     Objective Bounds      |     Work\n",
            " Expl Unexpl |  Obj  Depth IntInf | Incumbent    BestBd   Gap | It/Node Time\n",
            "\n",
            "     0     0   50.01786    0    2   41.00000   50.01786  22.0%     -    0s\n",
            "H    0     0                      49.0000000   50.01786  2.08%     -    0s\n",
            "\n",
            "Cutting planes:\n",
            "  Implied bound: 2\n",
            "\n",
            "Explored 1 nodes (4 simplex iterations) in 0.01 seconds (0.00 work units)\n",
            "Thread count was 16 (of 16 available processors)\n",
            "\n",
            "Solution count 2: 49 41 \n",
            "\n",
            "Optimal solution found (tolerance 1.00e-04)\n",
            "Best objective 4.900000000000e+01, best bound 4.900000000000e+01, gap 0.0000%\n",
            "obj_func =  49.0\n",
            "value of x[0] is 1\n",
            "value of x[1] is 0\n",
            "value of x[2] is 1\n",
            "value of y[0,0] is 1\n",
            "value of y[0,1] is 6\n",
            "value of y[1,0] is 0\n",
            "value of y[1,1] is 0\n",
            "value of y[2,0] is 9\n",
            "value of y[2,1] is 0\n"
          ]
        }
      ],
      "source": [
        "import gurobipy as gp\n",
        "from gurobipy import GRB\n",
        "\n",
        "m = gp.Model(\"MIP_gas\")\n",
        "m.Params.LogToConsole = 1  # use this to disable detailed result output\n",
        "\n",
        "x = m.addVars(3, vtype=GRB.BINARY, name=\"x\")\n",
        "y = m.addVars(3, 2, lb=0, name=\"y\")\n",
        "\n",
        "m.setObjective((y[0, 0]+6*y[0, 1]+2*y[1, 0]+5*y[1, 1]+3 *\n",
        "               y[2, 0]+4*y[2, 1])-(8*x[0]+9*x[1]+7*x[2]), GRB.MAXIMIZE)\n",
        "\n",
        "m.addConstr(y[0, 0]+y[1, 0]+y[2, 0] == 10)\n",
        "m.addConstr(y[0, 1]+y[1, 1]+y[2, 1] == 6)\n",
        "m.addConstr(y[0, 0]+y[0, 1]-7*x[0] <= 0)\n",
        "m.addConstr(y[1, 0]+y[1, 1]-8*x[1] <= 0)\n",
        "m.addConstr(y[2, 0]+y[2, 1]-9*x[2] <= 0)\n",
        "\n",
        "m.optimize()\n",
        "\n",
        "print(\"obj_func = \", m.objVal)\n",
        "\n",
        "for v in m.getVars():\n",
        "    print('value of %s is %g' % (v.varName, v.x))\n"
      ]
    },
    {
      "cell_type": "markdown",
      "metadata": {},
      "source": [
        "## 14 MIP Electricity Production Schedule"
      ]
    },
    {
      "cell_type": "code",
      "execution_count": 23,
      "metadata": {},
      "outputs": [
        {
          "name": "stdout",
          "output_type": "stream",
          "text": [
            "obj_func =  140.0\n",
            "value of x[0] is 1\n",
            "value of x[1] is -0\n",
            "value of x[2] is 1\n",
            "value of p[0] is 15\n",
            "value of p[1] is 0\n",
            "value of p[2] is 35\n"
          ]
        }
      ],
      "source": [
        "import gurobipy as gp\n",
        "from gurobipy import GRB\n",
        "\n",
        "m = gp.Model(\"MIP_electProduct\")\n",
        "m.Params.LogToConsole = 0  # use this to disable detailed result output\n",
        "\n",
        "x = m.addVars(3, vtype=GRB.BINARY, name=\"x\")\n",
        "p = m.addVars(3, lb=0, name=\"p\")\n",
        "\n",
        "m.setObjective((2*p[0]+5*p[1]+p[2])+(40*x[0]+50*x[1]+35*x[2]), GRB.MINIMIZE)\n",
        "\n",
        "m.addConstr(p[0]+p[1]+p[2] == 50)\n",
        "m.addConstr(5*x[0]-p[0] <= 0)\n",
        "m.addConstr(p[0]-20*x[0] <= 0)\n",
        "m.addConstr(6*x[1]-p[1] <= 0)\n",
        "m.addConstr(p[1]-40*x[1] <= 0)\n",
        "m.addConstr(4*x[2]-p[2] <= 0)\n",
        "m.addConstr(p[2]-35*x[2] <= 0)\n",
        "\n",
        "m.optimize()\n",
        "\n",
        "print(\"obj_func = \", m.objVal)\n",
        "\n",
        "for v in m.getVars():\n",
        "    print('value of %s is %g' % (v.varName, v.x))\n"
      ]
    },
    {
      "cell_type": "markdown",
      "metadata": {},
      "source": [
        "## 15 MIP Oil Transmisssion Facility"
      ]
    },
    {
      "cell_type": "code",
      "execution_count": 24,
      "metadata": {},
      "outputs": [
        {
          "name": "stdout",
          "output_type": "stream",
          "text": [
            "obj_func =  35.0\n",
            "value of x[0] is 0\n",
            "value of x[1] is 1\n",
            "value of p[0] is 0\n",
            "value of p[1] is 30\n",
            "value of f[0] is 10\n",
            "value of f[1] is 20\n",
            "value of f[2] is -10\n"
          ]
        }
      ],
      "source": [
        "import gurobipy as gp\n",
        "from gurobipy import GRB\n",
        "\n",
        "m = gp.Model(\"MIP_oilTransmit\")\n",
        "m.Params.LogToConsole = 0  # use this to disable detailed result output\n",
        "\n",
        "x = m.addVars(2, vtype=GRB.BINARY, name=\"x\")\n",
        "p = m.addVars(2, lb=0, name=\"p\")\n",
        "# default lb =0, use this to set it to be unbounded\n",
        "f = m.addVars(3, lb=-GRB.INFINITY, name=\"f\")\n",
        "\n",
        "m.setObjective(2*p[0]+3*p[1]-50*x[0]-55*x[1], GRB.MAXIMIZE)\n",
        "\n",
        "m.addConstr(p[0]-f[0]-f[2] == 0)\n",
        "m.addConstr(p[1]-f[1]+f[2] == 0)\n",
        "m.addConstr(f[0]+f[1] == 30)\n",
        "m.addConstr(f[2] >= -10)\n",
        "m.addConstr(f[2] <= 10)\n",
        "m.addConstr(f[0]-11*x[0] <= 12)\n",
        "m.addConstr(f[1]-12*x[1] <= 11)\n",
        "m.addConstr(f[0] >= 0)\n",
        "m.addConstr(f[1] >= 0)\n",
        "\n",
        "m.optimize()\n",
        "\n",
        "print(\"obj_func = \", m.objVal)\n",
        "\n",
        "for v in m.getVars():\n",
        "    print('value of %s is %g' % (v.varName, v.x))\n"
      ]
    },
    {
      "cell_type": "markdown",
      "metadata": {},
      "source": [
        "## 16 MIP EV Charging Station"
      ]
    },
    {
      "cell_type": "code",
      "execution_count": 25,
      "metadata": {},
      "outputs": [
        {
          "name": "stdout",
          "output_type": "stream",
          "text": [
            "obj_func =  25.0\n",
            "value of x[0] is 0\n",
            "value of x[1] is 1\n",
            "value of x[2] is 1\n"
          ]
        }
      ],
      "source": [
        "import gurobipy as gp\n",
        "from gurobipy import GRB\n",
        "\n",
        "m = gp.Model(\"MIP_EVcharging\")\n",
        "m.Params.LogToConsole = 0  # use this to disable detailed result output\n",
        "\n",
        "x = m.addVars(3, vtype=GRB.BINARY, name=\"x\")\n",
        "\n",
        "m.setObjective(10*x[0]+12*x[1]+13*x[2], GRB.MINIMIZE)\n",
        "\n",
        "m.addConstr(x[0]+x[2] >= 1)\n",
        "m.addConstr(x[1] >= 1)\n",
        "m.addConstr(x[0]+x[1] >= 1)\n",
        "m.addConstr(x[2] >= 1)\n",
        "\n",
        "m.optimize()\n",
        "\n",
        "print(\"obj_func = \", m.objVal)\n",
        "\n",
        "for v in m.getVars():\n",
        "    print('value of %s is %g' % (v.varName, v.x))\n"
      ]
    },
    {
      "cell_type": "markdown",
      "metadata": {},
      "source": [
        "## 17 MIP Wind Farm"
      ]
    },
    {
      "cell_type": "code",
      "execution_count": 26,
      "metadata": {},
      "outputs": [
        {
          "name": "stdout",
          "output_type": "stream",
          "text": [
            "obj_func =  28.0\n",
            "value of x[0,0] is -0\n",
            "value of x[0,1] is -0\n",
            "value of x[0,2] is 1\n",
            "value of x[1,0] is 1\n",
            "value of x[1,1] is -0\n",
            "value of x[1,2] is -0\n",
            "value of x[2,0] is -0\n",
            "value of x[2,1] is 1\n",
            "value of x[2,2] is -0\n"
          ]
        }
      ],
      "source": [
        "import gurobipy as gp\n",
        "from gurobipy import GRB\n",
        "\n",
        "m = gp.Model(\"MIP_windFarm\")\n",
        "m.Params.LogToConsole = 0  # use this to disable detailed result output\n",
        "\n",
        "x = m.addVars(3, 3, vtype=GRB.BINARY, name=\"x\")\n",
        "\n",
        "m.setObjective(10*x[0, 0]+12*x[0, 1]+14*x[0, 2] + 9*x[1, 0]+8 *\n",
        "               x[1, 1]+15*x[1, 2] + 10*x[2, 0]+5*x[2, 1]+15*x[2, 2], GRB.MINIMIZE)\n",
        "\n",
        "m.addConstr(x[0, 0]+x[0, 1]+x[0, 2] == 1)\n",
        "m.addConstr(x[1, 0]+x[1, 1]+x[1, 2] == 1)\n",
        "m.addConstr(x[2, 0]+x[2, 1]+x[2, 2] == 1)\n",
        "m.addConstr(x[0, 0]+x[1, 0]+x[2, 0] == 1)\n",
        "m.addConstr(x[0, 1]+x[1, 1]+x[2, 1] == 1)\n",
        "m.addConstr(x[0, 2]+x[1, 2]+x[2, 2] == 1)\n",
        "\n",
        "m.optimize()\n",
        "\n",
        "print(\"obj_func = \", m.objVal)\n",
        "\n",
        "for v in m.getVars():\n",
        "    print('value of %s is %g' % (v.varName, v.x))\n"
      ]
    },
    {
      "cell_type": "markdown",
      "metadata": {},
      "source": [
        "## 18 LP Dual"
      ]
    },
    {
      "cell_type": "code",
      "execution_count": 27,
      "metadata": {},
      "outputs": [
        {
          "name": "stdout",
          "output_type": "stream",
          "text": [
            "obj_func =  9200.0\n",
            "value of x[0] is 800\n",
            "value of x[1] is 300\n",
            "shadow price of c1 is: 0\n",
            "shadow price of c2 is: 20\n",
            "shadow price of c3 is: 2\n",
            "shadow price of c4 is: 0\n",
            "shadow price of c5 is: 0\n",
            "reduced cost of x[0] is 0\n",
            "reduced cost of x[1] is 0\n"
          ]
        }
      ],
      "source": [
        "import gurobipy as gp\n",
        "from gurobipy import GRB\n",
        "\n",
        "m = gp.Model(\"LP_dual\")\n",
        "m.Params.LogToConsole = 0\n",
        "x = m.addVars(2, lb=0, name=\"x\")\n",
        "\n",
        "m.setObjective(7*x[0]+12*x[1], GRB.MAXIMIZE)\n",
        "\n",
        "m.addConstr(0.15*x[0]+0.2*x[1] <= 200, name=\"c1\")\n",
        "m.addConstr(0.1*x[0]+0.2*x[1] <= 140, name=\"c2\")\n",
        "m.addConstr(2.5*x[0]+4*x[1] <= 3200, name=\"c3\")\n",
        "m.addConstr(x[0] <= 900, name=\"c4\")\n",
        "m.addConstr(x[1] <= 600, name=\"c5\")\n",
        "\n",
        "\n",
        "m.optimize()\n",
        "\n",
        "print(\"obj_func = \", m.objVal)\n",
        "\n",
        "for v in m.getVars():\n",
        "    print('value of %s is %g' % (v.varName, v.x))\n",
        "\n",
        "for con in m.getConstrs():\n",
        "    print('shadow price of %s is: %g' % (con.ConstrName, con.Pi))\n",
        "\n",
        "\n",
        "for v in m.getVars():\n",
        "    print('reduced cost of %s is %g' % (v.VarName, v.RC))\n"
      ]
    },
    {
      "cell_type": "markdown",
      "metadata": {},
      "source": [
        "## 19 LP Dual"
      ]
    },
    {
      "cell_type": "code",
      "execution_count": 28,
      "metadata": {},
      "outputs": [
        {
          "name": "stdout",
          "output_type": "stream",
          "text": [
            "obj_func =  6814.285714285714\n",
            "value of x[0] is 757.143\n",
            "value of x[1] is 757.143\n",
            "value of x[2] is 0\n",
            "value of x[3] is 0\n",
            "shadow price of Lathes is: 0.857143\n",
            "shadow price of Machine presses is: 0.428571\n",
            "reduced cost of x[0] is 0\n",
            "reduced cost of x[1] is 0\n",
            "reduced cost of x[2] is -0.142857\n",
            "reduced cost of x[3] is -1.14286\n"
          ]
        }
      ],
      "source": [
        "import gurobipy as gp\n",
        "from gurobipy import GRB\n",
        "\n",
        "m = gp.Model(\"LP_dual\")\n",
        "m.Params.LogToConsole = 0\n",
        "x = m.addVars(4, lb=0, name=\"x\")\n",
        "\n",
        "m.setObjective(3*x[0]+6*x[1]+5*x[2]+4*x[3], GRB.MAXIMIZE)\n",
        "\n",
        "m.addConstr(2*x[0]+5*x[1]+3*x[2]+4*x[3] <= 5300, name=\"Lathes\")\n",
        "m.addConstr(3*x[0]+4*x[1]+6*x[2]+4*x[3] <= 5300, name=\"Machine presses\")\n",
        "\n",
        "m.optimize()\n",
        "\n",
        "print(\"obj_func = \", m.objVal)\n",
        "\n",
        "for v in m.getVars():\n",
        "    print('value of %s is %g' % (v.varName, v.x))\n",
        "\n",
        "for con in m.getConstrs():\n",
        "    print('shadow price of %s is: %g' % (con.ConstrName, con.Pi))\n",
        "\n",
        "\n",
        "for v in m.getVars():\n",
        "    print('reduced cost of %s is %g' % (v.VarName, v.RC))\n"
      ]
    }
  ],
  "metadata": {
    "colab": {
      "collapsed_sections": [],
      "name": "transportation.ipynb",
      "provenance": []
    },
    "kernelspec": {
      "display_name": "Python 3.9.7 ('base')",
      "language": "python",
      "name": "python3"
    },
    "language_info": {
      "codemirror_mode": {
        "name": "ipython",
        "version": 3
      },
      "file_extension": ".py",
      "mimetype": "text/x-python",
      "name": "python",
      "nbconvert_exporter": "python",
      "pygments_lexer": "ipython3",
      "version": "3.9.7"
    },
    "vscode": {
      "interpreter": {
        "hash": "a92481e70822987d79ebd7dc62d603ec0859c6fb39528011355d2e4493612803"
      }
    }
  },
  "nbformat": 4,
  "nbformat_minor": 0
}
